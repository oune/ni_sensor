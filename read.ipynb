{
 "cells": [
  {
   "cell_type": "code",
   "execution_count": 1,
   "metadata": {},
   "outputs": [
    {
     "name": "stdout",
     "output_type": "stream",
     "text": [
      "Collecting nidaqmx\n",
      "  Using cached nidaqmx-0.6.3-py3-none-any.whl (253 kB)\n",
      "Collecting six<2.0,>=1.16\n",
      "  Using cached six-1.16.0-py2.py3-none-any.whl (11 kB)\n",
      "Requirement already satisfied: numpy<2.0,>=1.20; python_version < \"3.10\" in c:\\develop\\anaconda\\lib\\site-packages (from nidaqmx) (1.21.4)\n",
      "Installing collected packages: six, nidaqmx\n",
      "  Attempting uninstall: six\n",
      "    Found existing installation: six 1.15.0\n",
      "    Uninstalling six-1.15.0:\n",
      "      Successfully uninstalled six-1.15.0\n",
      "Successfully installed nidaqmx-0.6.3 six-1.16.0\n"
     ]
    }
   ],
   "source": [
    "!pip install nidaqmx"
   ]
  },
  {
   "cell_type": "code",
   "execution_count": 7,
   "metadata": {},
   "outputs": [],
   "source": [
    "import nidaqmx\n",
    "import time\n",
    "from time import ctime\n",
    "import numpy as np\n",
    "import csv\n",
    "import nidaqmx.system"
   ]
  },
  {
   "cell_type": "code",
   "execution_count": 37,
   "metadata": {},
   "outputs": [],
   "source": [
    "system = nidaqmx.system.System.local()\n",
    "devices = system.devices"
   ]
  },
  {
   "cell_type": "code",
   "execution_count": 49,
   "metadata": {},
   "outputs": [
    {
     "name": "stdout",
     "output_type": "stream",
     "text": [
      "장치를 선택해주세요\n",
      "0 ] cDAQ1\n",
      "1 ] cDAQ1Mod1\n",
      "1\n"
     ]
    }
   ],
   "source": [
    "print(\"장치를 선택해주세요\")\n",
    "for idx, device in enumerate(devices):\n",
    "    print(idx, ']', device.name)\n",
    "\n",
    "selected = int(input())\n",
    "device = devices[selected]"
   ]
  },
  {
   "cell_type": "code",
   "execution_count": 50,
   "metadata": {},
   "outputs": [
    {
     "name": "stdout",
     "output_type": "stream",
     "text": [
      "channel :  cDAQ1Mod1/ai0\n",
      "channel :  cDAQ1Mod1/ai1\n",
      "channel :  cDAQ1Mod1/ai2\n",
      "channel :  cDAQ1Mod1/ai3\n"
     ]
    }
   ],
   "source": [
    "task = nidaqmx.Task()\n",
    "channels = device.ai_physical_chans\n",
    "\n",
    "for channel in channels:\n",
    "    print(\"channel : \", channel.name)\n",
    "    task.ai_channels.add_ai_voltage_chan(channel.name)\n",
    "    \n",
    "task.timing.cfg_samp_clk_timing(rate=51200,\n",
    "                                active_edge=nidaqmx.constants.Edge.RISING,\n",
    "                                sample_mode=nidaqmx.constants.AcquisitionType.FINITE,\n",
    "                                samps_per_chan=51200)"
   ]
  },
  {
   "cell_type": "code",
   "execution_count": 44,
   "metadata": {},
   "outputs": [
    {
     "name": "stdout",
     "output_type": "stream",
     "text": [
      "chanells :  4\n",
      "0 :  51200\n",
      "1 :  51200\n",
      "2 :  51200\n",
      "3 :  51200\n"
     ]
    }
   ],
   "source": [
    "data = task.read(number_of_samples_per_channel=-1)\n",
    "print(\"chanells : \", len(data))\n",
    "\n",
    "for i in range(len(data)):\n",
    "    print(i, \": \", len(data[i]))"
   ]
  },
  {
   "cell_type": "code",
   "execution_count": 61,
   "metadata": {},
   "outputs": [
    {
     "name": "stdout",
     "output_type": "stream",
     "text": [
      "저장할 파일명을 입력해주세요vib\n"
     ]
    },
    {
     "name": "stderr",
     "output_type": "stream",
     "text": [
      "C:\\develop\\anaconda\\lib\\site-packages\\nidaqmx\\task.py:98: ResourceWarning: Task of name \"_unnamedTask<0>\" was not explicitly closed before it was destructed. Resources on the task device may still be reserved.\n",
      "  warnings.warn(\n",
      "C:\\develop\\anaconda\\lib\\site-packages\\nidaqmx\\task.py:98: ResourceWarning: Task of name \"_unnamedTask<2>\" was not explicitly closed before it was destructed. Resources on the task device may still be reserved.\n",
      "  warnings.warn(\n",
      "C:\\develop\\anaconda\\lib\\site-packages\\nidaqmx\\task.py:98: ResourceWarning: Task of name \"_unnamedTask<3>\" was not explicitly closed before it was destructed. Resources on the task device may still be reserved.\n",
      "  warnings.warn(\n",
      "C:\\develop\\anaconda\\lib\\site-packages\\nidaqmx\\task.py:98: ResourceWarning: Task of name \"_unnamedTask<4>\" was not explicitly closed before it was destructed. Resources on the task device may still be reserved.\n",
      "  warnings.warn(\n"
     ]
    },
    {
     "data": {
      "text/plain": [
       "[<_csv.writer at 0x1620510e400>,\n",
       " <_csv.writer at 0x1620510edb0>,\n",
       " <_csv.writer at 0x1620510eea0>,\n",
       " <_csv.writer at 0x1620510f040>]"
      ]
     },
     "execution_count": 61,
     "metadata": {},
     "output_type": "execute_result"
    }
   ],
   "source": [
    "filePath = input(\"저장할 파일명을 입력해주세요\")\n",
    "    \n",
    "writerList = []\n",
    "for channel in channels:\n",
    "    writerList.append(csv.writer(open(filePath +\"_\"+ channel.name.replace(\"/\", \"_\") + \".csv\", 'a', newline='\\n')))\n",
    "    \n",
    "writerList"
   ]
  },
  {
   "cell_type": "code",
   "execution_count": 62,
   "metadata": {},
   "outputs": [],
   "source": [
    "datas = task.read(number_of_samples_per_channel=-1)"
   ]
  },
  {
   "cell_type": "code",
   "execution_count": 63,
   "metadata": {},
   "outputs": [
    {
     "data": {
      "text/plain": [
       "4"
      ]
     },
     "execution_count": 63,
     "metadata": {},
     "output_type": "execute_result"
    }
   ],
   "source": [
    "len(datas)"
   ]
  },
  {
   "cell_type": "code",
   "execution_count": 64,
   "metadata": {},
   "outputs": [],
   "source": [
    "for idx, data in enumerate(datas):\n",
    "    for raw in data:\n",
    "        writerList[idx].writerow([raw])"
   ]
  },
  {
   "cell_type": "code",
   "execution_count": null,
   "metadata": {},
   "outputs": [],
   "source": []
  }
 ],
 "metadata": {
  "kernelspec": {
   "display_name": "Python 3",
   "language": "python",
   "name": "python3"
  },
  "language_info": {
   "codemirror_mode": {
    "name": "ipython",
    "version": 3
   },
   "file_extension": ".py",
   "mimetype": "text/x-python",
   "name": "python",
   "nbconvert_exporter": "python",
   "pygments_lexer": "ipython3",
   "version": "3.8.5"
  }
 },
 "nbformat": 4,
 "nbformat_minor": 4
}
