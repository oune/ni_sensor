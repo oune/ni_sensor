{
 "cells": [
  {
   "cell_type": "code",
   "execution_count": 1,
   "metadata": {},
   "outputs": [
    {
     "name": "stdout",
     "output_type": "stream",
     "text": [
      "Collecting nidaqmx\n",
      "  Using cached nidaqmx-0.6.3-py3-none-any.whl (253 kB)\n",
      "Collecting six<2.0,>=1.16\n",
      "  Using cached six-1.16.0-py2.py3-none-any.whl (11 kB)\n",
      "Requirement already satisfied: numpy<2.0,>=1.20; python_version < \"3.10\" in c:\\develop\\anaconda\\lib\\site-packages (from nidaqmx) (1.21.4)\n",
      "Installing collected packages: six, nidaqmx\n",
      "  Attempting uninstall: six\n",
      "    Found existing installation: six 1.15.0\n",
      "    Uninstalling six-1.15.0:\n",
      "      Successfully uninstalled six-1.15.0\n",
      "Successfully installed nidaqmx-0.6.3 six-1.16.0\n"
     ]
    }
   ],
   "source": [
    "!pip install nidaqmx"
   ]
  },
  {
   "cell_type": "code",
   "execution_count": 7,
   "metadata": {},
   "outputs": [],
   "source": [
    "import nidaqmx\n",
    "import time\n",
    "from time import ctime\n",
    "import numpy as np\n",
    "import csv\n",
    "import nidaqmx.system"
   ]
  },
  {
   "cell_type": "code",
   "execution_count": 8,
   "metadata": {},
   "outputs": [],
   "source": [
    "system = nidaqmx.system.System.local()"
   ]
  },
  {
   "cell_type": "code",
   "execution_count": 21,
   "metadata": {},
   "outputs": [
    {
     "name": "stdout",
     "output_type": "stream",
     "text": [
      "Device(name=cDAQ1)\n",
      "Device(name=cDAQ1Mod1)\n"
     ]
    }
   ],
   "source": [
    "for device in system.devices:\n",
    "    print(device)"
   ]
  },
  {
   "cell_type": "code",
   "execution_count": 13,
   "metadata": {},
   "outputs": [],
   "source": [
    "device = system.devices['cDAQ1Mod1']"
   ]
  },
  {
   "cell_type": "code",
   "execution_count": 16,
   "metadata": {},
   "outputs": [
    {
     "name": "stdout",
     "output_type": "stream",
     "text": [
      "cDAQ1Mod1/ai0\n",
      "cDAQ1Mod1/ai1\n",
      "cDAQ1Mod1/ai2\n",
      "cDAQ1Mod1/ai3\n"
     ]
    }
   ],
   "source": [
    "for chan in device.ai_physical_chans:\n",
    "    print(chan.name)"
   ]
  },
  {
   "cell_type": "code",
   "execution_count": 19,
   "metadata": {},
   "outputs": [
    {
     "name": "stdout",
     "output_type": "stream",
     "text": [
      "channel :  cDAQ1Mod1/ai0\n",
      "channel :  cDAQ1Mod1/ai1\n",
      "channel :  cDAQ1Mod1/ai2\n",
      "channel :  cDAQ1Mod1/ai3\n"
     ]
    },
    {
     "name": "stderr",
     "output_type": "stream",
     "text": [
      "C:\\develop\\anaconda\\lib\\site-packages\\nidaqmx\\task.py:98: ResourceWarning: Task of name \"_unnamedTask<1>\" was not explicitly closed before it was destructed. Resources on the task device may still be reserved.\n",
      "  warnings.warn(\n"
     ]
    }
   ],
   "source": [
    "task = nidaqmx.Task()\n",
    "\n",
    "for chan in device.ai_physical_chans:\n",
    "    print(\"channel : \", chan.name)\n",
    "    task.ai_channels.add_ai_voltage_chan(chan.name)\n",
    "    \n",
    "task.timing.cfg_samp_clk_timing(rate=51200,\n",
    "                                active_edge=nidaqmx.constants.Edge.RISING,\n",
    "                                sample_mode=nidaqmx.constants.AcquisitionType.FINITE,\n",
    "                                samps_per_chan=51200)"
   ]
  },
  {
   "cell_type": "code",
   "execution_count": 20,
   "metadata": {},
   "outputs": [
    {
     "name": "stdout",
     "output_type": "stream",
     "text": [
      "chanells :  4\n",
      "0 :  51200\n",
      "1 :  51200\n",
      "2 :  51200\n",
      "3 :  51200\n"
     ]
    }
   ],
   "source": [
    "data = task.read(number_of_samples_per_channel=-1)\n",
    "print(\"chanells : \", len(data))\n",
    "\n",
    "for i in range(len(data)):\n",
    "    print(i, \": \", len(data[i]))"
   ]
  },
  {
   "cell_type": "code",
   "execution_count": null,
   "metadata": {},
   "outputs": [],
   "source": [
    "filePath = input(\"저장할 파일명을 입력해주세요\")\n",
    "\n",
    "with open(filePath, 'a', newline='\\n') as f:\n",
    "    write = csv.writer(f)\n",
    "\n",
    "    datas = task.read(number_of_samples_per_channel=-1)\n",
    "\n",
    "    for data in datas:\n",
    "        write.writerow([data])"
   ]
  }
 ],
 "metadata": {
  "kernelspec": {
   "display_name": "Python 3",
   "language": "python",
   "name": "python3"
  },
  "language_info": {
   "codemirror_mode": {
    "name": "ipython",
    "version": 3
   },
   "file_extension": ".py",
   "mimetype": "text/x-python",
   "name": "python",
   "nbconvert_exporter": "python",
   "pygments_lexer": "ipython3",
   "version": "3.8.5"
  }
 },
 "nbformat": 4,
 "nbformat_minor": 4
}
