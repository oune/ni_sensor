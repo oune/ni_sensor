{
 "cells": [
  {
   "cell_type": "code",
   "execution_count": 1,
   "metadata": {},
   "outputs": [],
   "source": [
    "import nidaqmx\n",
    "import time\n",
    "from time import ctime\n",
    "import numpy as np\n",
    "import csv\n",
    "import nidaqmx.system\n",
    "from rich import print"
   ]
  },
  {
   "cell_type": "code",
   "execution_count": 2,
   "metadata": {},
   "outputs": [],
   "source": [
    "system = nidaqmx.system.System.local()\n",
    "devices = system.devices"
   ]
  },
  {
   "cell_type": "code",
   "execution_count": 3,
   "metadata": {},
   "outputs": [
    {
     "data": {
      "text/html": [
       "<pre style=\"white-space:pre;overflow-x:auto;line-height:normal;font-family:Menlo,'DejaVu Sans Mono',consolas,'Courier New',monospace\">장치를 선택해주세요\n",
       "</pre>\n"
      ],
      "text/plain": [
       "장치를 선택해주세요\n"
      ]
     },
     "metadata": {},
     "output_type": "display_data"
    },
    {
     "data": {
      "text/html": [
       "<pre style=\"white-space:pre;overflow-x:auto;line-height:normal;font-family:Menlo,'DejaVu Sans Mono',consolas,'Courier New',monospace\"><span style=\"color: #008080; text-decoration-color: #008080; font-weight: bold\">0</span> <span style=\"font-weight: bold\">]</span> cDAQ1\n",
       "</pre>\n"
      ],
      "text/plain": [
       "\u001b[1;36m0\u001b[0m \u001b[1m]\u001b[0m cDAQ1\n"
      ]
     },
     "metadata": {},
     "output_type": "display_data"
    },
    {
     "data": {
      "text/html": [
       "<pre style=\"white-space:pre;overflow-x:auto;line-height:normal;font-family:Menlo,'DejaVu Sans Mono',consolas,'Courier New',monospace\"><span style=\"color: #008080; text-decoration-color: #008080; font-weight: bold\">1</span> <span style=\"font-weight: bold\">]</span> cDAQ1Mod1\n",
       "</pre>\n"
      ],
      "text/plain": [
       "\u001b[1;36m1\u001b[0m \u001b[1m]\u001b[0m cDAQ1Mod1\n"
      ]
     },
     "metadata": {},
     "output_type": "display_data"
    },
    {
     "name": "stdout",
     "output_type": "stream",
     "text": [
      "1\n"
     ]
    }
   ],
   "source": [
    "print(\"장치를 선택해주세요\")\n",
    "for idx, device in enumerate(devices):\n",
    "    print(idx, ']', device.name)\n",
    "\n",
    "selected = int(input())\n",
    "device = devices[selected]"
   ]
  },
  {
   "cell_type": "code",
   "execution_count": 4,
   "metadata": {},
   "outputs": [
    {
     "data": {
      "text/html": [
       "<pre style=\"white-space:pre;overflow-x:auto;line-height:normal;font-family:Menlo,'DejaVu Sans Mono',consolas,'Courier New',monospace\">add input channels\n",
       "</pre>\n"
      ],
      "text/plain": [
       "add input channels\n"
      ]
     },
     "metadata": {},
     "output_type": "display_data"
    },
    {
     "data": {
      "text/html": [
       "<pre style=\"white-space:pre;overflow-x:auto;line-height:normal;font-family:Menlo,'DejaVu Sans Mono',consolas,'Courier New',monospace\">channel :  cDAQ1Mod1/ai0\n",
       "</pre>\n"
      ],
      "text/plain": [
       "channel :  cDAQ1Mod1/ai0\n"
      ]
     },
     "metadata": {},
     "output_type": "display_data"
    },
    {
     "data": {
      "text/html": [
       "<pre style=\"white-space:pre;overflow-x:auto;line-height:normal;font-family:Menlo,'DejaVu Sans Mono',consolas,'Courier New',monospace\">channel :  cDAQ1Mod1/ai1\n",
       "</pre>\n"
      ],
      "text/plain": [
       "channel :  cDAQ1Mod1/ai1\n"
      ]
     },
     "metadata": {},
     "output_type": "display_data"
    },
    {
     "data": {
      "text/html": [
       "<pre style=\"white-space:pre;overflow-x:auto;line-height:normal;font-family:Menlo,'DejaVu Sans Mono',consolas,'Courier New',monospace\">channel :  cDAQ1Mod1/ai2\n",
       "</pre>\n"
      ],
      "text/plain": [
       "channel :  cDAQ1Mod1/ai2\n"
      ]
     },
     "metadata": {},
     "output_type": "display_data"
    },
    {
     "data": {
      "text/html": [
       "<pre style=\"white-space:pre;overflow-x:auto;line-height:normal;font-family:Menlo,'DejaVu Sans Mono',consolas,'Courier New',monospace\">channel :  cDAQ1Mod1/ai3\n",
       "</pre>\n"
      ],
      "text/plain": [
       "channel :  cDAQ1Mod1/ai3\n"
      ]
     },
     "metadata": {},
     "output_type": "display_data"
    },
    {
     "data": {
      "text/html": [
       "<pre style=\"white-space:pre;overflow-x:auto;line-height:normal;font-family:Menlo,'DejaVu Sans Mono',consolas,'Courier New',monospace\">\n",
       "</pre>\n"
      ],
      "text/plain": [
       "\n"
      ]
     },
     "metadata": {},
     "output_type": "display_data"
    },
    {
     "data": {
      "text/html": [
       "<pre style=\"white-space:pre;overflow-x:auto;line-height:normal;font-family:Menlo,'DejaVu Sans Mono',consolas,'Courier New',monospace\">add output channels\n",
       "</pre>\n"
      ],
      "text/plain": [
       "add output channels\n"
      ]
     },
     "metadata": {},
     "output_type": "display_data"
    },
    {
     "data": {
      "text/html": [
       "<pre style=\"white-space:pre;overflow-x:auto;line-height:normal;font-family:Menlo,'DejaVu Sans Mono',consolas,'Courier New',monospace\">task ready\n",
       "</pre>\n"
      ],
      "text/plain": [
       "task ready\n"
      ]
     },
     "metadata": {},
     "output_type": "display_data"
    }
   ],
   "source": [
    "task = nidaqmx.Task()\n",
    "print('add input channels')\n",
    "\n",
    "channels = device.ai_physical_chans\n",
    "for channel in channels:\n",
    "    print(\"channel : \", channel.name)\n",
    "    task.ai_channels.add_ai_voltage_chan(channel.name)\n",
    "    \n",
    "print()\n",
    "print('add output channels')\n",
    "channels = device.ao_physical_chans\n",
    "for channel in channels:\n",
    "    print(\"channel : \", channel.name)\n",
    "    task.ao_channels.add_ao_voltage_chan(channel.name)\n",
    "\n",
    "task.timing.cfg_samp_clk_timing(rate=51200,\n",
    "                                active_edge=nidaqmx.constants.Edge.RISING,\n",
    "                                sample_mode=nidaqmx.constants.AcquisitionType.FINITE,\n",
    "                                samps_per_chan=51200)\n",
    "print('task ready')"
   ]
  },
  {
   "cell_type": "code",
   "execution_count": 5,
   "metadata": {},
   "outputs": [],
   "source": [
    "for t in device.ao_physical_chans:\n",
    "    print(t)"
   ]
  },
  {
   "cell_type": "code",
   "execution_count": 6,
   "metadata": {},
   "outputs": [
    {
     "name": "stdout",
     "output_type": "stream",
     "text": [
      "저장할 파일명을 입력해주세요dsa\n"
     ]
    },
    {
     "data": {
      "text/html": [
       "<pre style=\"white-space:pre;overflow-x:auto;line-height:normal;font-family:Menlo,'DejaVu Sans Mono',consolas,'Courier New',monospace\">name =  dsa_cDAQ1Mod1_ai0.csv\n",
       "</pre>\n"
      ],
      "text/plain": [
       "name =  dsa_cDAQ1Mod1_ai0.csv\n"
      ]
     },
     "metadata": {},
     "output_type": "display_data"
    },
    {
     "data": {
      "text/html": [
       "<pre style=\"white-space:pre;overflow-x:auto;line-height:normal;font-family:Menlo,'DejaVu Sans Mono',consolas,'Courier New',monospace\">name =  dsa_cDAQ1Mod1_ai1.csv\n",
       "</pre>\n"
      ],
      "text/plain": [
       "name =  dsa_cDAQ1Mod1_ai1.csv\n"
      ]
     },
     "metadata": {},
     "output_type": "display_data"
    },
    {
     "data": {
      "text/html": [
       "<pre style=\"white-space:pre;overflow-x:auto;line-height:normal;font-family:Menlo,'DejaVu Sans Mono',consolas,'Courier New',monospace\">name =  dsa_cDAQ1Mod1_ai2.csv\n",
       "</pre>\n"
      ],
      "text/plain": [
       "name =  dsa_cDAQ1Mod1_ai2.csv\n"
      ]
     },
     "metadata": {},
     "output_type": "display_data"
    },
    {
     "data": {
      "text/html": [
       "<pre style=\"white-space:pre;overflow-x:auto;line-height:normal;font-family:Menlo,'DejaVu Sans Mono',consolas,'Courier New',monospace\">name =  dsa_cDAQ1Mod1_ai3.csv\n",
       "</pre>\n"
      ],
      "text/plain": [
       "name =  dsa_cDAQ1Mod1_ai3.csv\n"
      ]
     },
     "metadata": {},
     "output_type": "display_data"
    },
    {
     "data": {
      "text/plain": [
       "[<_csv.writer at 0x1e24f928e00>,\n",
       " <_csv.writer at 0x1e24f928c70>,\n",
       " <_csv.writer at 0x1e24f928cc0>,\n",
       " <_csv.writer at 0x1e24f927450>]"
      ]
     },
     "execution_count": 6,
     "metadata": {},
     "output_type": "execute_result"
    }
   ],
   "source": [
    "filePath = input(\"저장할 파일명을 입력해주세요\")\n",
    "    \n",
    "writerList = []\n",
    "for channel in task.channels:\n",
    "    name = filePath +\"_\"+ channel.name.replace(\"/\", \"_\") + \".csv\"\n",
    "    print('name = ', name)\n",
    "    writerList.append(csv.writer(open(name, 'a', newline='\\n')))\n",
    "    \n",
    "writerList"
   ]
  },
  {
   "cell_type": "code",
   "execution_count": 9,
   "metadata": {},
   "outputs": [],
   "source": [
    "datas = task.read(number_of_samples_per_channel=100)\n",
    "for idx, data in enumerate(datas):\n",
    "    for raw in data:\n",
    "        writerList[idx].writerow([raw])"
   ]
  },
  {
   "cell_type": "code",
   "execution_count": null,
   "metadata": {},
   "outputs": [],
   "source": []
  }
 ],
 "metadata": {
  "kernelspec": {
   "display_name": "Python 3",
   "language": "python",
   "name": "python3"
  },
  "language_info": {
   "codemirror_mode": {
    "name": "ipython",
    "version": 3
   },
   "file_extension": ".py",
   "mimetype": "text/x-python",
   "name": "python",
   "nbconvert_exporter": "python",
   "pygments_lexer": "ipython3",
   "version": "3.8.5"
  }
 },
 "nbformat": 4,
 "nbformat_minor": 4
}
